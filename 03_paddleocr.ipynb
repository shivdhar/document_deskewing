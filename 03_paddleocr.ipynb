{
 "cells": [
  {
   "cell_type": "code",
   "execution_count": 1,
   "id": "3d83ea24-3fd5-405e-b908-a382fc375fe9",
   "metadata": {},
   "outputs": [],
   "source": [
    "import os\n",
    "os.getpid()"
   ]
  },
  {
   "cell_type": "code",
   "execution_count": 3,
   "id": "29a923fc-0087-4ac0-846a-e3c57c070223",
   "metadata": {},
   "outputs": [
    {
     "data": {
      "text/plain": [
       "'/home/dev2/anaconda3/envs/image_alignment/bin/python3.9'"
      ]
     },
     "execution_count": 3,
     "metadata": {},
     "output_type": "execute_result"
    }
   ],
   "source": [
    "import sys\n",
    "sys.executable"
   ]
  },
  {
   "cell_type": "code",
   "execution_count": null,
   "id": "a70545ec-7f84-42e1-ac5d-dbf875525f4c",
   "metadata": {},
   "outputs": [],
   "source": [
    "from PaddleOCR.tools.infer_e2e import "
   ]
  }
 ],
 "metadata": {
  "kernelspec": {
   "display_name": "Python 3",
   "language": "python",
   "name": "python3"
  },
  "language_info": {
   "codemirror_mode": {
    "name": "ipython",
    "version": 3
   },
   "file_extension": ".py",
   "mimetype": "text/x-python",
   "name": "python",
   "nbconvert_exporter": "python",
   "pygments_lexer": "ipython3",
   "version": "3.9.7"
  }
 },
 "nbformat": 4,
 "nbformat_minor": 5
}
